{
 "cells": [
  {
   "cell_type": "markdown",
   "id": "7e5e1cba",
   "metadata": {},
   "source": [
    "# Chp 4: Lists : Allow us to work with sequential data or List of Values"
   ]
  },
  {
   "cell_type": "markdown",
   "id": "14450127",
   "metadata": {},
   "source": [
    "## Lists"
   ]
  },
  {
   "cell_type": "markdown",
   "id": "820a8410",
   "metadata": {},
   "source": [
    "Create empty lists"
   ]
  },
  {
   "cell_type": "code",
   "execution_count": 83,
   "id": "358790f8",
   "metadata": {},
   "outputs": [
    {
     "name": "stdout",
     "output_type": "stream",
     "text": [
      "[]\n"
     ]
    }
   ],
   "source": [
    "empty_list = []\n",
    "#OR\n",
    "empty_list = list()\n",
    "print(empty_list)"
   ]
  },
  {
   "cell_type": "code",
   "execution_count": 23,
   "id": "7712083b",
   "metadata": {},
   "outputs": [],
   "source": [
    "courses = ['History','Math','Physics','CompSci']"
   ]
  },
  {
   "cell_type": "code",
   "execution_count": 4,
   "id": "2ae67ec2",
   "metadata": {},
   "outputs": [
    {
     "name": "stdout",
     "output_type": "stream",
     "text": [
      "['History', 'Math', 'Physics', 'CompSci']\n"
     ]
    }
   ],
   "source": [
    "print(courses)"
   ]
  },
  {
   "cell_type": "code",
   "execution_count": 5,
   "id": "6169bb73",
   "metadata": {},
   "outputs": [
    {
     "name": "stdout",
     "output_type": "stream",
     "text": [
      "4\n"
     ]
    }
   ],
   "source": [
    "print(len(courses))"
   ]
  },
  {
   "cell_type": "code",
   "execution_count": 6,
   "id": "20bdccb0",
   "metadata": {},
   "outputs": [
    {
     "name": "stdout",
     "output_type": "stream",
     "text": [
      "History\n"
     ]
    }
   ],
   "source": [
    "print(courses[0])"
   ]
  },
  {
   "cell_type": "code",
   "execution_count": 7,
   "id": "3bad6be4",
   "metadata": {},
   "outputs": [
    {
     "name": "stdout",
     "output_type": "stream",
     "text": [
      "CompSci\n"
     ]
    }
   ],
   "source": [
    "print(courses[3])"
   ]
  },
  {
   "cell_type": "markdown",
   "id": "6c52718e",
   "metadata": {},
   "source": [
    "Convenient to use -1 (below) as an index in list as we dont have to worry as what is the length of the list. It can also end up in trying to access and index that is out of range."
   ]
  },
  {
   "cell_type": "code",
   "execution_count": 8,
   "id": "f1d5a832",
   "metadata": {},
   "outputs": [
    {
     "name": "stdout",
     "output_type": "stream",
     "text": [
      "CompSci\n"
     ]
    }
   ],
   "source": [
    "print(courses[-1])"
   ]
  },
  {
   "cell_type": "markdown",
   "id": "3d0d7828",
   "metadata": {},
   "source": [
    "Accessing multiple values : Note the last value is not included. "
   ]
  },
  {
   "cell_type": "code",
   "execution_count": 10,
   "id": "5b7b15ee",
   "metadata": {},
   "outputs": [
    {
     "name": "stdout",
     "output_type": "stream",
     "text": [
      "['History', 'Math']\n",
      "['History', 'Math']\n"
     ]
    }
   ],
   "source": [
    "print(courses[0:2])\n",
    "print(courses[:2])"
   ]
  },
  {
   "cell_type": "markdown",
   "id": "a000524c",
   "metadata": {},
   "source": [
    "If we want to access all list objects from a particular member till end"
   ]
  },
  {
   "cell_type": "code",
   "execution_count": 11,
   "id": "83a3a4ec",
   "metadata": {},
   "outputs": [
    {
     "name": "stdout",
     "output_type": "stream",
     "text": [
      "['Physics', 'CompSci']\n"
     ]
    }
   ],
   "source": [
    "print(courses[2:])"
   ]
  },
  {
   "cell_type": "markdown",
   "id": "21a6aec3",
   "metadata": {},
   "source": [
    "### List methods"
   ]
  },
  {
   "cell_type": "markdown",
   "id": "53b87c85",
   "metadata": {},
   "source": [
    "Add an item to end of the list"
   ]
  },
  {
   "cell_type": "code",
   "execution_count": 24,
   "id": "d8086a69",
   "metadata": {},
   "outputs": [
    {
     "name": "stdout",
     "output_type": "stream",
     "text": [
      "['History', 'Math', 'Physics', 'CompSci', 'Art']\n"
     ]
    }
   ],
   "source": [
    "courses = ['History','Math','Physics','CompSci']\n",
    "courses.append('Art')\n",
    "print(courses)"
   ]
  },
  {
   "cell_type": "markdown",
   "id": "4880fad4",
   "metadata": {},
   "source": [
    "To insert an item at any position in the list just pass the index no first and then the item"
   ]
  },
  {
   "cell_type": "code",
   "execution_count": 25,
   "id": "80337c68",
   "metadata": {},
   "outputs": [
    {
     "name": "stdout",
     "output_type": "stream",
     "text": [
      "['Art', 'History', 'Math', 'Physics', 'CompSci']\n"
     ]
    }
   ],
   "source": [
    "courses = ['History','Math','Physics','CompSci']\n",
    "courses.insert(0,'Art')\n",
    "print(courses)"
   ]
  },
  {
   "cell_type": "markdown",
   "id": "7f54dd3b",
   "metadata": {},
   "source": [
    "Insert only adds 1 element to the position. If multiple items as a list are added to the insert, it adds a list to the beginning. The second print adds art and education values from the list inserted as the first element."
   ]
  },
  {
   "cell_type": "code",
   "execution_count": 28,
   "id": "0a0258e4",
   "metadata": {},
   "outputs": [
    {
     "name": "stdout",
     "output_type": "stream",
     "text": [
      "[['Art', ['Education']], 'History', 'Math', 'Physics', 'CompSci']\n",
      "['Art', ['Education']]\n"
     ]
    }
   ],
   "source": [
    "courses = ['History','Math','Physics','CompSci']\n",
    "courses_2 = ['Art',['Education']]\n",
    "courses.insert(0,courses_2)\n",
    "print(courses)\n",
    "print(courses[0])"
   ]
  },
  {
   "cell_type": "markdown",
   "id": "bf57b89a",
   "metadata": {},
   "source": [
    "Instead we use a method called extend. Note append only adds list to below"
   ]
  },
  {
   "cell_type": "code",
   "execution_count": 31,
   "id": "51e3875e",
   "metadata": {},
   "outputs": [
    {
     "name": "stdout",
     "output_type": "stream",
     "text": [
      "['History', 'Math', 'Physics', 'CompSci', 'Art', 'Education']\n",
      "History\n",
      "['History', 'Math', 'Physics', 'CompSci', ['Art', 'Education']]\n",
      "History\n"
     ]
    }
   ],
   "source": [
    "courses = ['History','Math','Physics','CompSci']\n",
    "courses_2 = ['Art','Education']\n",
    "courses.extend(courses_2)\n",
    "print(courses)\n",
    "print(courses[0])\n",
    "\n",
    "\n",
    "courses = ['History','Math','Physics','CompSci']\n",
    "courses_2 = ['Art','Education']\n",
    "courses.append(courses_2) \n",
    "print(courses)\n",
    "print(courses[0])"
   ]
  },
  {
   "cell_type": "markdown",
   "id": "2c3a4ffc",
   "metadata": {},
   "source": [
    "remove method removes objects from the list\n"
   ]
  },
  {
   "cell_type": "code",
   "execution_count": 34,
   "id": "45d4c9f2",
   "metadata": {},
   "outputs": [
    {
     "name": "stdout",
     "output_type": "stream",
     "text": [
      "['History', 'Physics', 'CompSci']\n"
     ]
    }
   ],
   "source": [
    "courses = ['History','Math','Physics','CompSci']\n",
    "courses.remove('Math')\n",
    "print(courses)"
   ]
  },
  {
   "cell_type": "markdown",
   "id": "0c342c20",
   "metadata": {},
   "source": [
    "pop method removes last value of the list. It helps if we use the list as a stack or a cube. pop returns the value removed from the list and can be stored in a variable.\n"
   ]
  },
  {
   "cell_type": "code",
   "execution_count": 37,
   "id": "6f679e1a",
   "metadata": {},
   "outputs": [
    {
     "name": "stdout",
     "output_type": "stream",
     "text": [
      "['History', 'Math', 'Physics']\n",
      "CompSci\n"
     ]
    }
   ],
   "source": [
    "courses = ['History','Math','Physics','CompSci']\n",
    "popped = courses.pop()\n",
    "print(courses)\n",
    "print(popped)\n",
    "\n"
   ]
  },
  {
   "cell_type": "markdown",
   "id": "c8308e54",
   "metadata": {},
   "source": [
    "reverse method reverses the order of the values stored in the list."
   ]
  },
  {
   "cell_type": "code",
   "execution_count": 39,
   "id": "fb232df0",
   "metadata": {},
   "outputs": [
    {
     "name": "stdout",
     "output_type": "stream",
     "text": [
      "['CompSci', 'Physics', 'Math', 'History']\n"
     ]
    }
   ],
   "source": [
    "courses = ['History','Math','Physics','CompSci']\n",
    "popped = courses.reverse()\n",
    "print(courses)"
   ]
  },
  {
   "cell_type": "markdown",
   "id": "38aa7794",
   "metadata": {},
   "source": [
    "Sort method sorts the list. This method alters the list in place."
   ]
  },
  {
   "cell_type": "code",
   "execution_count": 41,
   "id": "6b3b0950",
   "metadata": {},
   "outputs": [
    {
     "name": "stdout",
     "output_type": "stream",
     "text": [
      "['CompSci', 'History', 'Math', 'Physics']\n",
      "[1, 2, 3, 4, 5]\n",
      "[5, 4, 3, 2, 1]\n"
     ]
    }
   ],
   "source": [
    "courses = ['History','Math','Physics','CompSci']\n",
    "popped = courses.sort()\n",
    "print(courses)\n",
    "\n",
    "nums = [1,5,2,3,4]\n",
    "nums.sort()\n",
    "print(nums)\n",
    "\n",
    "nums1 = [1,5,2,3,4]\n",
    "nums1.sort(reverse = True)\n",
    "print(nums1)"
   ]
  },
  {
   "cell_type": "markdown",
   "id": "5017408d",
   "metadata": {},
   "source": [
    "use sorted function to allow us to keep the original list as it is. It returns a sorted value of the list. We can store it in a variable\n"
   ]
  },
  {
   "cell_type": "code",
   "execution_count": 42,
   "id": "36df3e08",
   "metadata": {},
   "outputs": [
    {
     "name": "stdout",
     "output_type": "stream",
     "text": [
      "[1, 5, 2, 3, 4]\n"
     ]
    }
   ],
   "source": [
    "nums = [1,5,2,3,4]\n",
    "sorted(nums)\n",
    "print(nums)"
   ]
  },
  {
   "cell_type": "code",
   "execution_count": 43,
   "id": "4d1ffbbc",
   "metadata": {},
   "outputs": [
    {
     "name": "stdout",
     "output_type": "stream",
     "text": [
      "1\n",
      "5\n",
      "15\n"
     ]
    }
   ],
   "source": [
    "nums = [1,5,2,3,4]\n",
    "print(min(nums))\n",
    "print(max(nums))\n",
    "print(sum(nums))"
   ]
  },
  {
   "cell_type": "markdown",
   "id": "42a01da6",
   "metadata": {},
   "source": [
    "to find position of a value in list, use index function"
   ]
  },
  {
   "cell_type": "code",
   "execution_count": 45,
   "id": "6f1bb67c",
   "metadata": {},
   "outputs": [
    {
     "name": "stdout",
     "output_type": "stream",
     "text": [
      "3\n"
     ]
    }
   ],
   "source": [
    "courses = ['History','Math','Physics','CompSci']\n",
    "print(courses.index('CompSci'))"
   ]
  },
  {
   "cell_type": "markdown",
   "id": "dff0a08e",
   "metadata": {},
   "source": [
    " to check if a value is present in list or not use the 'in' function. Returns true or false"
   ]
  },
  {
   "cell_type": "code",
   "execution_count": 48,
   "id": "efc70909",
   "metadata": {},
   "outputs": [
    {
     "name": "stdout",
     "output_type": "stream",
     "text": [
      "False\n",
      "True\n"
     ]
    }
   ],
   "source": [
    "courses = ['History','Math','Physics','CompSci']\n",
    "print('Art' in courses)\n",
    "\n",
    "print('Math' in courses)"
   ]
  },
  {
   "cell_type": "markdown",
   "id": "132c0251",
   "metadata": {},
   "source": [
    "Looping through list. for loop. here print statement prints all items in new line because print statement goes to a new line every time it executes."
   ]
  },
  {
   "cell_type": "code",
   "execution_count": 50,
   "id": "9a098375",
   "metadata": {},
   "outputs": [
    {
     "name": "stdout",
     "output_type": "stream",
     "text": [
      "History\n",
      "Math\n",
      "Physics\n",
      "CompSci\n"
     ]
    }
   ],
   "source": [
    "courses = ['History','Math','Physics','CompSci']\n",
    "for items in courses:\n",
    "    print(items)"
   ]
  },
  {
   "cell_type": "markdown",
   "id": "717ada99",
   "metadata": {},
   "source": [
    "We can access the index and value using the ennumerate function. if we want the index to start at a particular value, we can pass one more parameter that says start = 1 or whatever we want"
   ]
  },
  {
   "cell_type": "code",
   "execution_count": 53,
   "id": "8567fb30",
   "metadata": {},
   "outputs": [
    {
     "name": "stdout",
     "output_type": "stream",
     "text": [
      "0 History\n",
      "1 Math\n",
      "2 Physics\n",
      "3 CompSci\n"
     ]
    }
   ],
   "source": [
    "courses = ['History','Math','Physics','CompSci']\n",
    "for index, course in enumerate(courses):\n",
    "    print(index, course)"
   ]
  },
  {
   "cell_type": "code",
   "execution_count": 54,
   "id": "bc245194",
   "metadata": {},
   "outputs": [
    {
     "name": "stdout",
     "output_type": "stream",
     "text": [
      "1 History\n",
      "2 Math\n",
      "3 Physics\n",
      "4 CompSci\n"
     ]
    }
   ],
   "source": [
    "courses = ['History','Math','Physics','CompSci']\n",
    "for index, course in enumerate(courses, start = 1):\n",
    "    print(index, course)"
   ]
  },
  {
   "cell_type": "markdown",
   "id": "2e1217f7",
   "metadata": {},
   "source": [
    "To turn the list into comma seperated values or any seperator, we can use the join function as below. We use ', '.join(courses)"
   ]
  },
  {
   "cell_type": "code",
   "execution_count": 62,
   "id": "d818c85a",
   "metadata": {},
   "outputs": [
    {
     "name": "stdout",
     "output_type": "stream",
     "text": [
      "History, Math, Physics, CompSci\n"
     ]
    }
   ],
   "source": [
    "courses = ['History','Math','Physics','CompSci']\n",
    "courses_str = ', '.join(courses)\n",
    "print(courses_str)\n"
   ]
  },
  {
   "cell_type": "markdown",
   "id": "8e6bbad4",
   "metadata": {},
   "source": [
    "We can turn a string of values with split function"
   ]
  },
  {
   "cell_type": "code",
   "execution_count": 64,
   "id": "bd054f34",
   "metadata": {},
   "outputs": [
    {
     "name": "stdout",
     "output_type": "stream",
     "text": [
      "['History', 'Math', 'Physics', 'CompSci']\n"
     ]
    }
   ],
   "source": [
    "new_list = courses_str.split(', ')\n",
    "print(new_list)"
   ]
  },
  {
   "cell_type": "markdown",
   "id": "b5f2505a",
   "metadata": {},
   "source": [
    "## Tuples"
   ]
  },
  {
   "cell_type": "markdown",
   "id": "33716c4a",
   "metadata": {},
   "source": [
    "Tuples are similar to list except that they are immutable whereas lists are mutable. It doesnt have as many methods as list becaust lists contain mutating values. Can be used in situations where we just need to loop through and access. The Tuples are enclosed by round brackets."
   ]
  },
  {
   "cell_type": "markdown",
   "id": "1e540240",
   "metadata": {},
   "source": [
    "Create empty tuples"
   ]
  },
  {
   "cell_type": "code",
   "execution_count": 86,
   "id": "6c47b112",
   "metadata": {},
   "outputs": [
    {
     "ename": "TypeError",
     "evalue": "'tuple' object is not callable",
     "output_type": "error",
     "traceback": [
      "\u001b[1;31m---------------------------------------------------------------------------\u001b[0m",
      "\u001b[1;31mTypeError\u001b[0m                                 Traceback (most recent call last)",
      "\u001b[1;32mC:\\Users\\ARUNAN~1\\AppData\\Local\\Temp/ipykernel_17924/857380248.py\u001b[0m in \u001b[0;36m<module>\u001b[1;34m\u001b[0m\n\u001b[0;32m      1\u001b[0m \u001b[0mempty_tuple\u001b[0m \u001b[1;33m=\u001b[0m \u001b[1;33m(\u001b[0m\u001b[1;33m)\u001b[0m\u001b[1;33m\u001b[0m\u001b[1;33m\u001b[0m\u001b[0m\n\u001b[1;32m----> 2\u001b[1;33m \u001b[0mempty_tuple\u001b[0m \u001b[1;33m=\u001b[0m \u001b[0mtuple\u001b[0m\u001b[1;33m(\u001b[0m\u001b[1;33m)\u001b[0m\u001b[1;33m\u001b[0m\u001b[1;33m\u001b[0m\u001b[0m\n\u001b[0m",
      "\u001b[1;31mTypeError\u001b[0m: 'tuple' object is not callable"
     ]
    }
   ],
   "source": [
    "empty_tuple = ()\n",
    "empty_tuple = tuple()\n"
   ]
  },
  {
   "cell_type": "code",
   "execution_count": 68,
   "id": "b08b686d",
   "metadata": {},
   "outputs": [
    {
     "ename": "AttributeError",
     "evalue": "'tuple' object has no attribute 'insert'",
     "output_type": "error",
     "traceback": [
      "\u001b[1;31m---------------------------------------------------------------------------\u001b[0m",
      "\u001b[1;31mAttributeError\u001b[0m                            Traceback (most recent call last)",
      "\u001b[1;32mC:\\Users\\ARUNAN~1\\AppData\\Local\\Temp/ipykernel_17924/584478571.py\u001b[0m in \u001b[0;36m<module>\u001b[1;34m\u001b[0m\n\u001b[0;32m      1\u001b[0m \u001b[0mcourses\u001b[0m \u001b[1;33m=\u001b[0m \u001b[1;33m(\u001b[0m\u001b[1;34m'History'\u001b[0m\u001b[1;33m,\u001b[0m\u001b[1;34m'Math'\u001b[0m\u001b[1;33m,\u001b[0m\u001b[1;34m'Physics'\u001b[0m\u001b[1;33m,\u001b[0m\u001b[1;34m'CompSci'\u001b[0m\u001b[1;33m)\u001b[0m\u001b[1;33m\u001b[0m\u001b[1;33m\u001b[0m\u001b[0m\n\u001b[1;32m----> 2\u001b[1;33m \u001b[0mcourses\u001b[0m\u001b[1;33m.\u001b[0m\u001b[0minsert\u001b[0m\u001b[1;33m(\u001b[0m\u001b[1;36m0\u001b[0m\u001b[1;33m,\u001b[0m\u001b[1;34m'Art'\u001b[0m\u001b[1;33m)\u001b[0m\u001b[1;33m\u001b[0m\u001b[1;33m\u001b[0m\u001b[0m\n\u001b[0m",
      "\u001b[1;31mAttributeError\u001b[0m: 'tuple' object has no attribute 'insert'"
     ]
    }
   ],
   "source": [
    "tuple = ('History','Math','Physics','CompSci')\n",
    "courses.insert(0,'Art')\n",
    "# Lack of methods"
   ]
  },
  {
   "cell_type": "code",
   "execution_count": 69,
   "id": "c1a960cd",
   "metadata": {
    "scrolled": true
   },
   "outputs": [
    {
     "ename": "TypeError",
     "evalue": "'tuple' object does not support item assignment",
     "output_type": "error",
     "traceback": [
      "\u001b[1;31m---------------------------------------------------------------------------\u001b[0m",
      "\u001b[1;31mTypeError\u001b[0m                                 Traceback (most recent call last)",
      "\u001b[1;32mC:\\Users\\ARUNAN~1\\AppData\\Local\\Temp/ipykernel_17924/3832839212.py\u001b[0m in \u001b[0;36m<module>\u001b[1;34m\u001b[0m\n\u001b[0;32m      1\u001b[0m \u001b[0mtuple\u001b[0m \u001b[1;33m=\u001b[0m \u001b[1;33m(\u001b[0m\u001b[1;34m'History'\u001b[0m\u001b[1;33m,\u001b[0m\u001b[1;34m'Math'\u001b[0m\u001b[1;33m,\u001b[0m\u001b[1;34m'Physics'\u001b[0m\u001b[1;33m,\u001b[0m\u001b[1;34m'CompSci'\u001b[0m\u001b[1;33m)\u001b[0m\u001b[1;33m\u001b[0m\u001b[1;33m\u001b[0m\u001b[0m\n\u001b[1;32m----> 2\u001b[1;33m \u001b[0mtuple\u001b[0m\u001b[1;33m[\u001b[0m\u001b[1;36m0\u001b[0m\u001b[1;33m]\u001b[0m \u001b[1;33m=\u001b[0m \u001b[1;34m'Art'\u001b[0m\u001b[1;33m\u001b[0m\u001b[1;33m\u001b[0m\u001b[0m\n\u001b[0m",
      "\u001b[1;31mTypeError\u001b[0m: 'tuple' object does not support item assignment"
     ]
    }
   ],
   "source": [
    "tuple = ('History','Math','Physics','CompSci')\n",
    "tuple[0] = 'Art'\n",
    "# Immutable property"
   ]
  },
  {
   "cell_type": "markdown",
   "id": "b889c917",
   "metadata": {},
   "source": [
    "## Sets"
   ]
  },
  {
   "cell_type": "markdown",
   "id": "55101c9b",
   "metadata": {},
   "source": [
    "Sets are unordered values and have no duplicates. Sets dont really care about orders. Use Cases : To test whether a value is a part of a set. Sets do this far more efficiently than Lists or Tuples. It also helps remove duplicate values as below. Sets are enclosed in curly brackets."
   ]
  },
  {
   "cell_type": "markdown",
   "id": "8d0ca359",
   "metadata": {},
   "source": [
    "Create Empty Sets"
   ]
  },
  {
   "cell_type": "code",
   "execution_count": 89,
   "id": "77b66077",
   "metadata": {},
   "outputs": [
    {
     "name": "stdout",
     "output_type": "stream",
     "text": [
      "set()\n"
     ]
    }
   ],
   "source": [
    "empty_set = {} # This isnt right. Its a dictionary\n",
    "empty_set = set()\n",
    "print(empty_set)"
   ]
  },
  {
   "cell_type": "code",
   "execution_count": 75,
   "id": "795467a0",
   "metadata": {},
   "outputs": [
    {
     "name": "stdout",
     "output_type": "stream",
     "text": [
      "{'Math', 'Physics', 'CompSci', 'History'}\n"
     ]
    }
   ],
   "source": [
    "sets_courses = {'History','Math','Physics','CompSci', 'Math'}\n",
    "print(sets_courses)\n"
   ]
  },
  {
   "cell_type": "markdown",
   "id": "49118e65",
   "metadata": {},
   "source": [
    "Sets also help determine if they share or dont share values with other sets."
   ]
  },
  {
   "cell_type": "code",
   "execution_count": 78,
   "id": "a3c0d4f5",
   "metadata": {},
   "outputs": [],
   "source": [
    "cs_courses = {'History','Math','Physics','CompSci'}\n",
    "art_courses = {'History','Math','Art','Design'}"
   ]
  },
  {
   "cell_type": "code",
   "execution_count": 79,
   "id": "e6b1f507",
   "metadata": {},
   "outputs": [
    {
     "name": "stdout",
     "output_type": "stream",
     "text": [
      "{'History', 'Math'}\n"
     ]
    }
   ],
   "source": [
    "print(cs_courses.intersection(art_courses))"
   ]
  },
  {
   "cell_type": "code",
   "execution_count": 80,
   "id": "9de37062",
   "metadata": {},
   "outputs": [
    {
     "name": "stdout",
     "output_type": "stream",
     "text": [
      "{'CompSci', 'Physics'}\n"
     ]
    }
   ],
   "source": [
    "print(cs_courses.difference(art_courses))"
   ]
  },
  {
   "cell_type": "code",
   "execution_count": 81,
   "id": "cb1648ed",
   "metadata": {},
   "outputs": [
    {
     "name": "stdout",
     "output_type": "stream",
     "text": [
      "{'CompSci', 'Math', 'Art', 'Design', 'Physics', 'History'}\n"
     ]
    }
   ],
   "source": [
    "print(cs_courses.union(art_courses))"
   ]
  },
  {
   "cell_type": "code",
   "execution_count": null,
   "id": "39603098",
   "metadata": {},
   "outputs": [],
   "source": []
  }
 ],
 "metadata": {
  "kernelspec": {
   "display_name": "Python 3 (ipykernel)",
   "language": "python",
   "name": "python3"
  },
  "language_info": {
   "codemirror_mode": {
    "name": "ipython",
    "version": 3
   },
   "file_extension": ".py",
   "mimetype": "text/x-python",
   "name": "python",
   "nbconvert_exporter": "python",
   "pygments_lexer": "ipython3",
   "version": "3.8.12"
  }
 },
 "nbformat": 4,
 "nbformat_minor": 5
}
