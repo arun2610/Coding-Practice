{
 "cells": [
  {
   "cell_type": "markdown",
   "id": "f9c5ba8e",
   "metadata": {},
   "source": [
    "### Dictionaries"
   ]
  },
  {
   "cell_type": "markdown",
   "id": "d9656915",
   "metadata": {},
   "source": [
    "Allow us to work with Key Value pairs (hashmaps / associative arrays in other languages)\n",
    "key is the unique identifier and value is the data.\n"
   ]
  },
  {
   "cell_type": "code",
   "execution_count": 2,
   "id": "53c199f6",
   "metadata": {},
   "outputs": [
    {
     "name": "stdout",
     "output_type": "stream",
     "text": [
      "{'name': 'John', 'age': 25, 'courses': ['Math', 'CompSci']}\n"
     ]
    }
   ],
   "source": [
    "student = {'name' : 'John', 'age':25,'courses' : ['Math', 'CompSci']}\n",
    "print(student)"
   ]
  },
  {
   "cell_type": "code",
   "execution_count": 4,
   "id": "8c485c0d",
   "metadata": {},
   "outputs": [
    {
     "name": "stdout",
     "output_type": "stream",
     "text": [
      "John\n"
     ]
    }
   ],
   "source": [
    "print(student['name'])"
   ]
  },
  {
   "cell_type": "code",
   "execution_count": 5,
   "id": "8bee9409",
   "metadata": {},
   "outputs": [
    {
     "name": "stdout",
     "output_type": "stream",
     "text": [
      "['Math', 'CompSci']\n"
     ]
    }
   ],
   "source": [
    "print(student['courses'])"
   ]
  },
  {
   "cell_type": "markdown",
   "id": "3f2bc3b7",
   "metadata": {},
   "source": [
    "the key in dictionaries can be any data type. "
   ]
  },
  {
   "cell_type": "code",
   "execution_count": 6,
   "id": "c3cd653e",
   "metadata": {},
   "outputs": [
    {
     "name": "stdout",
     "output_type": "stream",
     "text": [
      "John\n"
     ]
    }
   ],
   "source": [
    "student = {1 : 'John', 'age':25,'courses' : ['Math', 'CompSci']}\n",
    "print(student[1])"
   ]
  },
  {
   "cell_type": "markdown",
   "id": "4656a327",
   "metadata": {},
   "source": [
    "if we access a key that does not exist, it gives error"
   ]
  },
  {
   "cell_type": "code",
   "execution_count": 7,
   "id": "f296286d",
   "metadata": {},
   "outputs": [
    {
     "ename": "KeyError",
     "evalue": "'phone'",
     "output_type": "error",
     "traceback": [
      "\u001b[1;31m---------------------------------------------------------------------------\u001b[0m",
      "\u001b[1;31mKeyError\u001b[0m                                  Traceback (most recent call last)",
      "\u001b[1;32mC:\\Users\\ARUNAN~1\\AppData\\Local\\Temp/ipykernel_17700/2434489550.py\u001b[0m in \u001b[0;36m<module>\u001b[1;34m\u001b[0m\n\u001b[0;32m      1\u001b[0m \u001b[0mstudent\u001b[0m \u001b[1;33m=\u001b[0m \u001b[1;33m{\u001b[0m\u001b[1;36m1\u001b[0m \u001b[1;33m:\u001b[0m \u001b[1;34m'John'\u001b[0m\u001b[1;33m,\u001b[0m \u001b[1;34m'age'\u001b[0m\u001b[1;33m:\u001b[0m\u001b[1;36m25\u001b[0m\u001b[1;33m,\u001b[0m\u001b[1;34m'courses'\u001b[0m \u001b[1;33m:\u001b[0m \u001b[1;33m[\u001b[0m\u001b[1;34m'Math'\u001b[0m\u001b[1;33m,\u001b[0m \u001b[1;34m'CompSci'\u001b[0m\u001b[1;33m]\u001b[0m\u001b[1;33m}\u001b[0m\u001b[1;33m\u001b[0m\u001b[1;33m\u001b[0m\u001b[0m\n\u001b[1;32m----> 2\u001b[1;33m \u001b[0mprint\u001b[0m\u001b[1;33m(\u001b[0m\u001b[0mstudent\u001b[0m\u001b[1;33m[\u001b[0m\u001b[1;34m'phone'\u001b[0m\u001b[1;33m]\u001b[0m\u001b[1;33m)\u001b[0m\u001b[1;33m\u001b[0m\u001b[1;33m\u001b[0m\u001b[0m\n\u001b[0m",
      "\u001b[1;31mKeyError\u001b[0m: 'phone'"
     ]
    }
   ],
   "source": [
    "student = {1 : 'John', 'age':25,'courses' : ['Math', 'CompSci']}\n",
    "print(student['phone'])"
   ]
  },
  {
   "cell_type": "markdown",
   "id": "e1eebeab",
   "metadata": {},
   "source": [
    "if we dont want error and instead return something usable, we can use the get method. HEre we see get method returns none. If we want custom message if key is not available, we can pass an additional parameter with the value we want."
   ]
  },
  {
   "cell_type": "code",
   "execution_count": 9,
   "id": "1b125c3a",
   "metadata": {},
   "outputs": [
    {
     "name": "stdout",
     "output_type": "stream",
     "text": [
      "None\n",
      "Not Found\n"
     ]
    }
   ],
   "source": [
    "student = {'name' : 'John', 'age':25,'courses' : ['Math', 'CompSci']}\n",
    "print(student.get('phone'))\n",
    "print(student.get('phone','Not Found'))"
   ]
  },
  {
   "cell_type": "markdown",
   "id": "28053b8f",
   "metadata": {},
   "source": [
    "Add a new key value pair to dictionary"
   ]
  },
  {
   "cell_type": "code",
   "execution_count": 13,
   "id": "702bc0f6",
   "metadata": {},
   "outputs": [
    {
     "name": "stdout",
     "output_type": "stream",
     "text": [
      "{'name': 'John', 'age': 25, 'courses': ['Math', 'CompSci'], 'phone': '555-55555'}\n",
      "555-55555\n"
     ]
    }
   ],
   "source": [
    "student = {'name' : 'John', 'age':25,'courses' : ['Math', 'CompSci']}\n",
    "student['phone'] = '555-55555'\n",
    "print(student)\n",
    "print(student.get('phone','Not Found'))"
   ]
  },
  {
   "cell_type": "markdown",
   "id": "0fb6db70",
   "metadata": {},
   "source": [
    "If a key already exists, value is updated."
   ]
  },
  {
   "cell_type": "code",
   "execution_count": 14,
   "id": "ee0b9d7c",
   "metadata": {},
   "outputs": [
    {
     "name": "stdout",
     "output_type": "stream",
     "text": [
      "{'name': 'John', 'age': 25, 'courses': ['Math', 'CompSci'], 'phone': '666-6666'}\n",
      "666-6666\n"
     ]
    }
   ],
   "source": [
    "student = {'name' : 'John', 'age':25,'courses' : ['Math', 'CompSci']}\n",
    "student['phone'] = '666-6666'\n",
    "print(student)\n",
    "print(student.get('phone','Not Found'))"
   ]
  },
  {
   "cell_type": "markdown",
   "id": "fa70f73c",
   "metadata": {},
   "source": [
    "We can use update method as well to update the values in dictionary. It helps in updating multiple entries in dictionary"
   ]
  },
  {
   "cell_type": "code",
   "execution_count": 15,
   "id": "d19569db",
   "metadata": {},
   "outputs": [
    {
     "name": "stdout",
     "output_type": "stream",
     "text": [
      "{'name': 'Jane', 'age': 26, 'courses': ['Math', 'CompSci'], 'phone': '555-55555'}\n"
     ]
    }
   ],
   "source": [
    "student = {'name' : 'John', 'age':25,'courses' : ['Math', 'CompSci']}\n",
    "student.update({'name' : 'Jane', 'age':26, 'phone': '555-55555'})\n",
    "print(student)"
   ]
  },
  {
   "cell_type": "markdown",
   "id": "e919eff3",
   "metadata": {},
   "source": [
    "To delete a key value pair, we should use 'del' keyword"
   ]
  },
  {
   "cell_type": "code",
   "execution_count": 16,
   "id": "b2e2cbb3",
   "metadata": {},
   "outputs": [
    {
     "name": "stdout",
     "output_type": "stream",
     "text": [
      "{'name': 'John', 'courses': ['Math', 'CompSci']}\n"
     ]
    }
   ],
   "source": [
    "student = {'name' : 'John', 'age':25,'courses' : ['Math', 'CompSci']}\n",
    "del student['age']\n",
    "print(student)"
   ]
  },
  {
   "cell_type": "markdown",
   "id": "50a3ef03",
   "metadata": {},
   "source": [
    "pop method also can be used. It is the same as lists. We can get a returned pop data "
   ]
  },
  {
   "cell_type": "code",
   "execution_count": 19,
   "id": "00675f5f",
   "metadata": {},
   "outputs": [
    {
     "name": "stdout",
     "output_type": "stream",
     "text": [
      "{'name': 'John', 'courses': ['Math', 'CompSci']}\n",
      "25\n"
     ]
    }
   ],
   "source": [
    "student = {'name' : 'John', 'age':25,'courses' : ['Math', 'CompSci']}\n",
    "age = student.pop('age')\n",
    "print(student)\n",
    "print(age)"
   ]
  },
  {
   "cell_type": "markdown",
   "id": "2ed4eb5d",
   "metadata": {},
   "source": [
    "How many keys we have in dictionary use 'len' keyword"
   ]
  },
  {
   "cell_type": "code",
   "execution_count": 22,
   "id": "74133994",
   "metadata": {},
   "outputs": [
    {
     "name": "stdout",
     "output_type": "stream",
     "text": [
      "3\n"
     ]
    }
   ],
   "source": [
    "student = {'name' : 'John', 'age':25,'courses' : ['Math', 'CompSci']}\n",
    "print(len(student))"
   ]
  },
  {
   "cell_type": "markdown",
   "id": "667d37fe",
   "metadata": {},
   "source": [
    "Display all keys of a dictionary : Use keys() function"
   ]
  },
  {
   "cell_type": "code",
   "execution_count": 23,
   "id": "38081188",
   "metadata": {},
   "outputs": [
    {
     "name": "stdout",
     "output_type": "stream",
     "text": [
      "dict_keys(['name', 'age', 'courses'])\n"
     ]
    }
   ],
   "source": [
    "student = {'name' : 'John', 'age':25,'courses' : ['Math', 'CompSci']}\n",
    "print(student.keys())"
   ]
  },
  {
   "cell_type": "markdown",
   "id": "67b12dc8",
   "metadata": {},
   "source": [
    "To Display all values in a dictionary, use values() function"
   ]
  },
  {
   "cell_type": "code",
   "execution_count": 24,
   "id": "effdeeb7",
   "metadata": {},
   "outputs": [
    {
     "name": "stdout",
     "output_type": "stream",
     "text": [
      "dict_values(['John', 25, ['Math', 'CompSci']])\n"
     ]
    }
   ],
   "source": [
    "student = {'name' : 'John', 'age':25,'courses' : ['Math', 'CompSci']}\n",
    "print(student.values())"
   ]
  },
  {
   "cell_type": "markdown",
   "id": "2fbedc2c",
   "metadata": {},
   "source": [
    "To display all Items, use items() function"
   ]
  },
  {
   "cell_type": "code",
   "execution_count": 25,
   "id": "2a909433",
   "metadata": {},
   "outputs": [
    {
     "name": "stdout",
     "output_type": "stream",
     "text": [
      "dict_items([('name', 'John'), ('age', 25), ('courses', ['Math', 'CompSci'])])\n"
     ]
    }
   ],
   "source": [
    "student = {'name' : 'John', 'age':25,'courses' : ['Math', 'CompSci']}\n",
    "print(student.items())"
   ]
  },
  {
   "cell_type": "markdown",
   "id": "010d30cf",
   "metadata": {},
   "source": [
    "if we try to loop through the dictionaries, we can do it using a for loop. But it only gives key through loop as below:"
   ]
  },
  {
   "cell_type": "code",
   "execution_count": 26,
   "id": "37023539",
   "metadata": {},
   "outputs": [
    {
     "name": "stdout",
     "output_type": "stream",
     "text": [
      "name\n",
      "age\n",
      "courses\n"
     ]
    }
   ],
   "source": [
    "student = {'name' : 'John', 'age':25,'courses' : ['Math', 'CompSci']}\n",
    "for key in student:\n",
    "    print(key)"
   ]
  },
  {
   "cell_type": "markdown",
   "id": "7e3f2316",
   "metadata": {},
   "source": [
    "Instead if we want to have both key and values or in other words items, we have to use the following steps using items() method"
   ]
  },
  {
   "cell_type": "code",
   "execution_count": 27,
   "id": "ba3e7bd7",
   "metadata": {},
   "outputs": [
    {
     "name": "stdout",
     "output_type": "stream",
     "text": [
      "name John\n",
      "age 25\n",
      "courses ['Math', 'CompSci']\n"
     ]
    }
   ],
   "source": [
    "student = {'name' : 'John', 'age':25,'courses' : ['Math', 'CompSci']}\n",
    "for key, value in student.items():\n",
    "    print(key,value)"
   ]
  },
  {
   "cell_type": "code",
   "execution_count": 28,
   "id": "de6bb120",
   "metadata": {},
   "outputs": [
    {
     "name": "stdout",
     "output_type": "stream",
     "text": [
      "('name', 'John')\n",
      "('age', 25)\n",
      "('courses', ['Math', 'CompSci'])\n"
     ]
    }
   ],
   "source": [
    "student = {'name' : 'John', 'age':25,'courses' : ['Math', 'CompSci']}\n",
    "for  value in student.items():\n",
    "    print(value)"
   ]
  },
  {
   "cell_type": "code",
   "execution_count": null,
   "id": "622f3366",
   "metadata": {},
   "outputs": [],
   "source": []
  }
 ],
 "metadata": {
  "kernelspec": {
   "display_name": "Python 3 (ipykernel)",
   "language": "python",
   "name": "python3"
  },
  "language_info": {
   "codemirror_mode": {
    "name": "ipython",
    "version": 3
   },
   "file_extension": ".py",
   "mimetype": "text/x-python",
   "name": "python",
   "nbconvert_exporter": "python",
   "pygments_lexer": "ipython3",
   "version": "3.8.12"
  }
 },
 "nbformat": 4,
 "nbformat_minor": 5
}
